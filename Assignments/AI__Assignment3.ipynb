{
  "cells": [
    {
      "cell_type": "code",
      "execution_count": null,
      "metadata": {
        "colab": {
          "base_uri": "https://localhost:8080/"
        },
        "id": "OCNoJMuM9mBH",
        "outputId": "9158de61-2679-449d-8ce3-478732cfc2dd"
      },
      "outputs": [
        {
          "output_type": "stream",
          "name": "stdout",
          "text": [
            "Archive:  /content/drive/MyDrive/birds_dataset.zip\n",
            "  inflating: test_data/test_data/blasti/DSC_6396.jpg  \n",
            "  inflating: test_data/test_data/blasti/DSC_6397.jpg  \n",
            "  inflating: test_data/test_data/blasti/DSC_6398.jpg  \n",
            "  inflating: test_data/test_data/blasti/DSC_6399.jpg  \n",
            "  inflating: test_data/test_data/blasti/DSC_6400.jpg  \n",
            "  inflating: test_data/test_data/blasti/DSC_6401.jpg  \n",
            "  inflating: test_data/test_data/blasti/DSC_6402.jpg  \n",
            "  inflating: test_data/test_data/blasti/DSC_6403.jpg  \n",
            "  inflating: test_data/test_data/blasti/DSC_6405.jpg  \n",
            "  inflating: test_data/test_data/blasti/DSC_6406.jpg  \n",
            "  inflating: test_data/test_data/blasti/DSC_6407.jpg  \n",
            "  inflating: test_data/test_data/blasti/DSC_6408.jpg  \n",
            "  inflating: test_data/test_data/blasti/DSC_6409.jpg  \n",
            "  inflating: test_data/test_data/blasti/DSC_6410.jpg  \n",
            "  inflating: test_data/test_data/blasti/DSC_6411.jpg  \n",
            "  inflating: test_data/test_data/bonegl/DSC_4587.jpg  \n",
            "  inflating: test_data/test_data/bonegl/DSC_4588.jpg  \n",
            "  inflating: test_data/test_data/bonegl/DSC_4589.jpg  \n",
            "  inflating: test_data/test_data/bonegl/DSC_4590.jpg  \n",
            "  inflating: test_data/test_data/bonegl/DSC_4591.jpg  \n",
            "  inflating: test_data/test_data/bonegl/DSC_4592.jpg  \n",
            "  inflating: test_data/test_data/bonegl/DSC_4593.jpg  \n",
            "  inflating: test_data/test_data/brhkyt/D72_0473.jpg  \n",
            "  inflating: test_data/test_data/brhkyt/D72_0474.jpg  \n",
            "  inflating: test_data/test_data/brhkyt/D72_0475.jpg  \n",
            "  inflating: test_data/test_data/brhkyt/D72_0477.jpg  \n",
            "  inflating: test_data/test_data/brhkyt/D72_0478.jpg  \n",
            "  inflating: test_data/test_data/brhkyt/D72_0479.jpg  \n",
            "  inflating: test_data/test_data/cbrtsh/_D32_10310.jpg  \n",
            "  inflating: test_data/test_data/cbrtsh/_D32_10311.jpg  \n",
            "  inflating: test_data/test_data/cbrtsh/_D32_10312.jpg  \n",
            "  inflating: test_data/test_data/cbrtsh/_D32_10313.jpg  \n",
            "  inflating: test_data/test_data/cbrtsh/_D32_10314.jpg  \n",
            "  inflating: test_data/test_data/cbrtsh/_D32_10317.jpg  \n",
            "  inflating: test_data/test_data/cbrtsh/_D32_10318.jpg  \n",
            "  inflating: test_data/test_data/cmnmyn/DSC_2443.jpg  \n",
            "  inflating: test_data/test_data/cmnmyn/DSC_4681.jpg  \n",
            "  inflating: test_data/test_data/cmnmyn/DSC_5137.jpg  \n",
            "  inflating: test_data/test_data/cmnmyn/DSC_7625.jpg  \n",
            "  inflating: test_data/test_data/cmnmyn/P1050277.jpg  \n",
            "  inflating: test_data/test_data/cmnmyn/_D32_12426.jpg  \n",
            "  inflating: test_data/test_data/cmnmyn/_D32_12427.jpg  \n",
            "  inflating: test_data/test_data/cmnmyn/_D32_12428.jpg  \n",
            "  inflating: test_data/test_data/gretit/11620454726_31a35c26da_o.jpg  \n",
            "  inflating: test_data/test_data/gretit/11776135285_ccf938fa2e_o.jpg  \n",
            "  inflating: test_data/test_data/gretit/11905645146_6a5d4ff9f9_o.jpg  \n",
            "  inflating: test_data/test_data/gretit/8537646712_0b282c4c6a_o.jpg  \n",
            "  inflating: test_data/test_data/gretit/D72_0693.jpg  \n",
            "  inflating: test_data/test_data/gretit/D72_0694.jpg  \n",
            "  inflating: test_data/test_data/gretit/D72_0695.jpg  \n",
            "  inflating: test_data/test_data/hilpig/DSC_6359.jpg  \n",
            "  inflating: test_data/test_data/hilpig/DSC_6362.jpg  \n",
            "  inflating: test_data/test_data/hilpig/DSC_6364.jpg  \n",
            "  inflating: test_data/test_data/hilpig/DSC_6368.jpg  \n",
            "  inflating: test_data/test_data/hilpig/DSC_6403.jpg  \n",
            "  inflating: test_data/test_data/hilpig/DSC_6404.jpg  \n",
            "  inflating: test_data/test_data/hilpig/P1000319.jpg  \n",
            "  inflating: test_data/test_data/hilpig/P1000323.jpg  \n",
            "  inflating: test_data/test_data/hilpig/P1050044.jpg  \n",
            "  inflating: test_data/test_data/hilpig/P1050045.jpg  \n",
            "  inflating: test_data/test_data/himbul/11602064885_3826df4500_o.jpg  \n",
            "  inflating: test_data/test_data/himbul/11619942574_42f23a7b05_o.jpg  \n",
            "  inflating: test_data/test_data/himbul/11620097904_33fa8ee878_o.jpg  \n",
            "  inflating: test_data/test_data/himbul/5857371972_ed4f88b275_o.jpg  \n",
            "  inflating: test_data/test_data/himbul/6154954471_eefe6e00d1_o.jpg  \n",
            "  inflating: test_data/test_data/himbul/D72_0688.jpg  \n",
            "  inflating: test_data/test_data/himbul/D72_0691.jpg  \n",
            "  inflating: test_data/test_data/himbul/DSC08357.jpg  \n",
            "  inflating: test_data/test_data/himbul/DSC_3230.jpg  \n",
            "  inflating: test_data/test_data/himbul/DSC_7439.jpg  \n",
            "  inflating: test_data/test_data/himbul/DSC_7602.jpg  \n",
            "  inflating: test_data/test_data/himbul/P1060368.jpg  \n",
            "  inflating: test_data/test_data/himbul/P1060369.jpg  \n",
            "  inflating: test_data/test_data/himbul/_D32_10242.jpg  \n",
            "  inflating: test_data/test_data/himbul/_D32_10245.jpg  \n",
            "  inflating: test_data/test_data/himbul/_D32_10251.jpg  \n",
            "  inflating: test_data/test_data/himbul/_D32_10319.jpg  \n",
            "  inflating: test_data/test_data/himbul/_D32_10320.jpg  \n",
            "  inflating: test_data/test_data/himbul/_DSC9446.jpg  \n",
            "  inflating: test_data/test_data/himgri/IMG_5384.JPG  \n",
            "  inflating: test_data/test_data/himgri/IMG_5385.JPG  \n",
            "  inflating: test_data/test_data/himgri/IMG_5386.JPG  \n",
            "  inflating: test_data/test_data/himgri/IMG_5387.JPG  \n",
            "  inflating: test_data/test_data/himgri/IMG_5459.JPG  \n",
            "  inflating: test_data/test_data/himgri/IMG_5460.JPG  \n",
            "  inflating: test_data/test_data/himgri/IMG_5487.JPG  \n",
            "  inflating: test_data/test_data/himgri/IMG_5488.JPG  \n",
            "  inflating: test_data/test_data/himgri/IMG_5489.JPG  \n",
            "  inflating: test_data/test_data/himgri/IMG_5490.JPG  \n",
            "  inflating: test_data/test_data/himgri/IMG_5491.JPG  \n",
            "  inflating: test_data/test_data/himgri/IMG_5492.JPG  \n",
            "  inflating: test_data/test_data/himgri/P1020742.jpg  \n",
            "  inflating: test_data/test_data/himgri/P1020743.jpg  \n",
            "  inflating: test_data/test_data/himgri/P1020746.jpg  \n",
            "  inflating: test_data/test_data/himgri/P1020748.jpg  \n",
            "  inflating: test_data/test_data/himgri/P1030055.jpg  \n",
            "  inflating: test_data/test_data/himgri/P1060776.jpg  \n",
            "  inflating: test_data/test_data/himgri/P1060777.jpg  \n",
            "  inflating: test_data/test_data/himgri/P1060778.jpg  \n",
            "  inflating: test_data/test_data/hsparo/100_5573.JPG  \n",
            "  inflating: test_data/test_data/hsparo/100_5585.JPG  \n",
            "  inflating: test_data/test_data/hsparo/100_5586.JPG  \n",
            "  inflating: test_data/test_data/hsparo/100_5742.JPG  \n",
            "  inflating: test_data/test_data/hsparo/12265273154_48e0fefd42_o.jpg  \n",
            "  inflating: test_data/test_data/hsparo/DSC_4521.jpg  \n",
            "  inflating: test_data/test_data/hsparo/DSC_7619.jpg  \n",
            "  inflating: test_data/test_data/hsparo/_DSC_11244.jpg  \n",
            "  inflating: test_data/test_data/hsparo/_DSC_11246.jpg  \n",
            "  inflating: test_data/test_data/indvul/DSC_1263.jpg  \n",
            "  inflating: test_data/test_data/indvul/DSC_1273.jpg  \n",
            "  inflating: test_data/test_data/indvul/DSC_1274.jpg  \n",
            "  inflating: test_data/test_data/indvul/DSC_1275.jpg  \n",
            "  inflating: test_data/test_data/indvul/DSC_1277.jpg  \n",
            "  inflating: test_data/test_data/indvul/_DSC8754.jpg  \n",
            "  inflating: test_data/test_data/indvul/_DSC9520.jpg  \n",
            "  inflating: test_data/test_data/indvul/_DSC9521.jpg  \n",
            "  inflating: test_data/test_data/indvul/_DSC9523.jpg  \n",
            "  inflating: test_data/test_data/jglowl/_D32_10584.jpg  \n",
            "  inflating: test_data/test_data/jglowl/_D32_10587.jpg  \n",
            "  inflating: test_data/test_data/jglowl/_D32_10593.jpg  \n",
            "  inflating: test_data/test_data/jglowl/_D32_13515.jpg  \n",
            "  inflating: test_data/test_data/jglowl/_D32_13516.jpg  \n",
            "  inflating: test_data/test_data/jglowl/_D32_13517.jpg  \n",
            "  inflating: test_data/test_data/lbicrw/100_4917.JPG  \n",
            "  inflating: test_data/test_data/lbicrw/IMG_5538.JPG  \n",
            "  inflating: test_data/test_data/lbicrw/IMG_5541.JPG  \n",
            "  inflating: test_data/test_data/lbicrw/IMG_5543.JPG  \n",
            "  inflating: test_data/test_data/lbicrw/IMG_5544.JPG  \n",
            "  inflating: test_data/test_data/lbicrw/P1030030.jpg  \n",
            "  inflating: test_data/test_data/mgprob/100_5811.JPG  \n",
            "  inflating: test_data/test_data/mgprob/100_5812.JPG  \n",
            "  inflating: test_data/test_data/mgprob/100_5813.JPG  \n",
            "  inflating: test_data/test_data/mgprob/DSC_3233.jpg  \n",
            "  inflating: test_data/test_data/mgprob/_DSC0085.jpg  \n",
            "  inflating: test_data/test_data/mgprob/_DSC0133.jpg  \n",
            "  inflating: test_data/test_data/mgprob/_DSC0135.jpg  \n",
            "  inflating: test_data/test_data/rebimg/100_5756.JPG  \n",
            "  inflating: test_data/test_data/rebimg/100_5757.JPG  \n",
            "  inflating: test_data/test_data/rebimg/100_5758.JPG  \n",
            "  inflating: test_data/test_data/rebimg/100_5759.JPG  \n",
            "  inflating: test_data/test_data/rebimg/100_5760.JPG  \n",
            "  inflating: test_data/test_data/rebimg/13009302395_5d88a9d62b_o.jpg  \n",
            "  inflating: test_data/test_data/rebimg/13009315305_f1cbfb6767_o.jpg  \n",
            "  inflating: test_data/test_data/rebimg/13009451823_8eb502581f_o.jpg  \n",
            "  inflating: test_data/test_data/rebimg/DSC_7148.jpg  \n",
            "  inflating: test_data/test_data/rebimg/IMG_5251.JPG  \n",
            "  inflating: test_data/test_data/rebimg/IMG_5252.JPG  \n",
            "  inflating: test_data/test_data/wcrsrt/100_4462.JPG  \n",
            "  inflating: test_data/test_data/wcrsrt/100_4463.JPG  \n",
            "  inflating: test_data/test_data/wcrsrt/100_4464.JPG  \n",
            "  inflating: test_data/test_data/wcrsrt/100_4466.JPG  \n",
            "  inflating: test_data/test_data/wcrsrt/100_4467.JPG  \n",
            "  inflating: test_data/test_data/wcrsrt/100_4468.JPG  \n",
            "  inflating: test_data/test_data/wcrsrt/100_5103.JPG  \n",
            "  inflating: test_data/test_data/wcrsrt/100_5105.JPG  \n",
            "  inflating: test_data/test_data/wcrsrt/11382677585_ef6570a041_o.jpg  \n",
            "  inflating: test_data/test_data/wcrsrt/11382746854_7ce73793b3_o.jpg  \n",
            "  inflating: train_data/train_data/blasti/DSC_6382.jpg  \n",
            "  inflating: train_data/train_data/blasti/DSC_6383.jpg  \n",
            "  inflating: train_data/train_data/blasti/DSC_6384-2.jpg  \n",
            "  inflating: train_data/train_data/blasti/DSC_6384.jpg  \n",
            "  inflating: train_data/train_data/blasti/DSC_6385.jpg  \n",
            "  inflating: train_data/train_data/blasti/DSC_6386.jpg  \n",
            "  inflating: train_data/train_data/blasti/DSC_6387.jpg  \n",
            "  inflating: train_data/train_data/blasti/DSC_6388.jpg  \n",
            "  inflating: train_data/train_data/blasti/DSC_6389.jpg  \n",
            "  inflating: train_data/train_data/blasti/DSC_6390.jpg  \n",
            "  inflating: train_data/train_data/blasti/DSC_6391.jpg  \n",
            "  inflating: train_data/train_data/blasti/DSC_6392.jpg  \n",
            "  inflating: train_data/train_data/blasti/DSC_6393.jpg  \n",
            "  inflating: train_data/train_data/blasti/DSC_6394.jpg  \n",
            "  inflating: train_data/train_data/blasti/DSC_6395.jpg  \n",
            "  inflating: train_data/train_data/bonegl/DSC_4570.jpg  \n",
            "  inflating: train_data/train_data/bonegl/DSC_4571.jpg  \n",
            "  inflating: train_data/train_data/bonegl/DSC_4583.jpg  \n",
            "  inflating: train_data/train_data/bonegl/DSC_4584.jpg  \n",
            "  inflating: train_data/train_data/bonegl/DSC_4585.jpg  \n",
            "  inflating: train_data/train_data/bonegl/DSC_4586.jpg  \n",
            "  inflating: train_data/train_data/brhkyt/D72_0400.jpg  \n",
            "  inflating: train_data/train_data/brhkyt/D72_0401.jpg  \n",
            "  inflating: train_data/train_data/brhkyt/D72_0470.jpg  \n",
            "  inflating: train_data/train_data/brhkyt/D72_0471.jpg  \n",
            "  inflating: train_data/train_data/brhkyt/D72_0472.jpg  \n",
            "  inflating: train_data/train_data/cbrtsh/100_5097.JPG  \n",
            "  inflating: train_data/train_data/cbrtsh/_D32_10303.jpg  \n",
            "  inflating: train_data/train_data/cbrtsh/_D32_10305.jpg  \n",
            "  inflating: train_data/train_data/cbrtsh/_D32_10306.jpg  \n",
            "  inflating: train_data/train_data/cbrtsh/_D32_10307.jpg  \n",
            "  inflating: train_data/train_data/cbrtsh/_D32_10308.jpg  \n",
            "  inflating: train_data/train_data/cbrtsh/_D32_10309.jpg  \n",
            "  inflating: train_data/train_data/cmnmyn/100_5763.JPG  \n",
            "  inflating: train_data/train_data/cmnmyn/5866682091_870ccc946c_o.jpg  \n",
            "  inflating: train_data/train_data/cmnmyn/6154956165_64266b8b53_o.jpg  \n",
            "  inflating: train_data/train_data/cmnmyn/DSCN5784.jpg  \n",
            "  inflating: train_data/train_data/cmnmyn/DSCN5787.jpg  \n",
            "  inflating: train_data/train_data/cmnmyn/DSCN5790.jpg  \n",
            "  inflating: train_data/train_data/cmnmyn/DSCN5791.jpg  \n",
            "  inflating: train_data/train_data/gretit/100_5042.JPG  \n",
            "  inflating: train_data/train_data/gretit/100_5043.JPG  \n",
            "  inflating: train_data/train_data/gretit/100_5044.JPG  \n",
            "  inflating: train_data/train_data/gretit/100_5045.JPG  \n",
            "  inflating: train_data/train_data/gretit/100_5046.JPG  \n",
            "  inflating: train_data/train_data/gretit/100_5047.JPG  \n",
            "  inflating: train_data/train_data/hilpig/DSC_6272.jpg  \n",
            "  inflating: train_data/train_data/hilpig/DSC_6273.jpg  \n",
            "  inflating: train_data/train_data/hilpig/DSC_6274.jpg  \n",
            "  inflating: train_data/train_data/hilpig/DSC_6275.jpg  \n",
            "  inflating: train_data/train_data/hilpig/DSC_6350.jpg  \n",
            "  inflating: train_data/train_data/hilpig/DSC_6351.jpg  \n",
            "  inflating: train_data/train_data/hilpig/DSC_6352.jpg  \n",
            "  inflating: train_data/train_data/hilpig/DSC_6353.jpg  \n",
            "  inflating: train_data/train_data/hilpig/DSC_6354.jpg  \n",
            "  inflating: train_data/train_data/hilpig/DSC_6358.jpg  \n",
            "  inflating: train_data/train_data/himbul/100_5028.JPG  \n",
            "  inflating: train_data/train_data/himbul/100_5029.JPG  \n",
            "  inflating: train_data/train_data/himbul/100_5096.JPG  \n",
            "  inflating: train_data/train_data/himbul/100_5099.JPG  \n",
            "  inflating: train_data/train_data/himbul/100_5100.JPG  \n",
            "  inflating: train_data/train_data/himbul/100_5102.JPG  \n",
            "  inflating: train_data/train_data/himbul/100_5110.JPG  \n",
            "  inflating: train_data/train_data/himbul/100_5112.JPG  \n",
            "  inflating: train_data/train_data/himbul/100_5113.JPG  \n",
            "  inflating: train_data/train_data/himbul/100_5159.JPG  \n",
            "  inflating: train_data/train_data/himbul/100_5160.JPG  \n",
            "  inflating: train_data/train_data/himbul/100_5161.JPG  \n",
            "  inflating: train_data/train_data/himbul/100_5162.JPG  \n",
            "  inflating: train_data/train_data/himbul/10774570945_9bc537c255_o.jpg  \n",
            "  inflating: train_data/train_data/himbul/11383838134_96e891a316_o.jpg  \n",
            "  inflating: train_data/train_data/himbul/11383857084_cdd7514746_o.jpg  \n",
            "  inflating: train_data/train_data/himbul/11387473723_464965720a_o.jpg  \n",
            "  inflating: train_data/train_data/himbul/9007817678_24db19fc63_o.jpg  \n",
            "  inflating: train_data/train_data/himgri/12029790563_2fe54a68aa_o.jpg  \n",
            "  inflating: train_data/train_data/himgri/12029822653_1185544e7b_o.jpg  \n",
            "  inflating: train_data/train_data/himgri/12029933015_802428e277_o.jpg  \n",
            "  inflating: train_data/train_data/himgri/12029987304_031b7a2d53_o.jpg  \n",
            "  inflating: train_data/train_data/himgri/12030165813_f5341e8ed0_o.jpg  \n",
            "  inflating: train_data/train_data/himgri/12030221124_1baaf905d1_o.jpg  \n",
            "  inflating: train_data/train_data/himgri/12030269234_1c3f5a8e8c_o.jpg  \n",
            "  inflating: train_data/train_data/himgri/12152037683_13e1556c41_o.jpg  \n",
            "  inflating: train_data/train_data/himgri/12152178844_dc29e3126f_o.jpg  \n",
            "  inflating: train_data/train_data/himgri/12152510436_23b62fed3b_o.jpg  \n",
            "  inflating: train_data/train_data/himgri/12265055185_138e3c7c70_o.jpg  \n",
            "  inflating: train_data/train_data/himgri/12265498144_d2e80faa3b_o.jpg  \n",
            "  inflating: train_data/train_data/himgri/12265561764_4814951031_o.jpg  \n",
            "  inflating: train_data/train_data/himgri/12265582724_61cb64e73a_o.jpg  \n",
            "  inflating: train_data/train_data/himgri/12265738206_2b9b25cc8a_o.jpg  \n",
            "  inflating: train_data/train_data/himgri/12265747116_d4b4fa3741_o.jpg  \n",
            "  inflating: train_data/train_data/himgri/12266053036_fcab92d8e8_o.jpg  \n",
            "  inflating: train_data/train_data/himgri/12266077576_1d7143aaf7_o.jpg  \n",
            "  inflating: train_data/train_data/himgri/12266086526_82cd337667_o.jpg  \n",
            "  inflating: train_data/train_data/himgri/IMG_5463.JPG  \n",
            "  inflating: train_data/train_data/hsparo/100_4757.JPG  \n",
            "  inflating: train_data/train_data/hsparo/100_4758.JPG  \n",
            "  inflating: train_data/train_data/hsparo/100_5039.JPG  \n",
            "  inflating: train_data/train_data/hsparo/100_5040.JPG  \n",
            "  inflating: train_data/train_data/hsparo/100_5041.JPG  \n",
            "  inflating: train_data/train_data/hsparo/100_5048.JPG  \n",
            "  inflating: train_data/train_data/hsparo/100_5049.JPG  \n",
            "  inflating: train_data/train_data/hsparo/100_5050.JPG  \n",
            "  inflating: train_data/train_data/hsparo/100_5572.JPG  \n",
            "  inflating: train_data/train_data/indvul/DSC_0502.jpg  \n",
            "  inflating: train_data/train_data/indvul/DSC_0571e.jpg  \n",
            "  inflating: train_data/train_data/indvul/DSC_0572.jpg  \n",
            "  inflating: train_data/train_data/indvul/DSC_0576e.jpg  \n",
            "  inflating: train_data/train_data/indvul/DSC_0582.jpg  \n",
            "  inflating: train_data/train_data/indvul/DSC_0583e.jpg  \n",
            "  inflating: train_data/train_data/indvul/DSC_0584.jpg  \n",
            "  inflating: train_data/train_data/indvul/DSC_0616c.jpg  \n",
            "  inflating: train_data/train_data/indvul/DSC_0617.jpg  \n",
            "  inflating: train_data/train_data/jglowl/12152151476_7a1524aabb_o.jpg  \n",
            "  inflating: train_data/train_data/jglowl/DSC01335.jpg  \n",
            "  inflating: train_data/train_data/jglowl/DSC01336.jpg  \n",
            "  inflating: train_data/train_data/jglowl/_D32_10285.jpg  \n",
            "  inflating: train_data/train_data/jglowl/_D32_10578.jpg  \n",
            "  inflating: train_data/train_data/jglowl/_D32_10583.jpg  \n",
            "  inflating: train_data/train_data/lbicrw/100_4037.JPG  \n",
            "  inflating: train_data/train_data/lbicrw/100_4912.JPG  \n",
            "  inflating: train_data/train_data/lbicrw/100_4913.JPG  \n",
            "  inflating: train_data/train_data/lbicrw/100_4914.JPG  \n",
            "  inflating: train_data/train_data/lbicrw/100_4915.JPG  \n",
            "  inflating: train_data/train_data/lbicrw/100_4916.JPG  \n",
            "  inflating: train_data/train_data/mgprob/100_5587.JPG  \n",
            "  inflating: train_data/train_data/mgprob/100_5588.JPG  \n",
            "  inflating: train_data/train_data/mgprob/100_5589.JPG  \n",
            "  inflating: train_data/train_data/mgprob/100_5590.JPG  \n",
            "  inflating: train_data/train_data/mgprob/100_5592.JPG  \n",
            "  inflating: train_data/train_data/mgprob/100_5762.JPG  \n",
            "  inflating: train_data/train_data/rebimg/100_5744.JPG  \n",
            "  inflating: train_data/train_data/rebimg/100_5745.JPG  \n",
            "  inflating: train_data/train_data/rebimg/100_5746.JPG  \n",
            "  inflating: train_data/train_data/rebimg/100_5748.JPG  \n",
            "  inflating: train_data/train_data/rebimg/100_5749.JPG  \n",
            "  inflating: train_data/train_data/rebimg/100_5750.JPG  \n",
            "  inflating: train_data/train_data/rebimg/100_5751.JPG  \n",
            "  inflating: train_data/train_data/rebimg/100_5752.JPG  \n",
            "  inflating: train_data/train_data/rebimg/100_5754.JPG  \n",
            "  inflating: train_data/train_data/rebimg/100_5755.JPG  \n",
            "  inflating: train_data/train_data/wcrsrt/100_4452.JPG  \n",
            "  inflating: train_data/train_data/wcrsrt/100_4453.JPG  \n",
            "  inflating: train_data/train_data/wcrsrt/100_4454.JPG  \n",
            "  inflating: train_data/train_data/wcrsrt/100_4455.JPG  \n",
            "  inflating: train_data/train_data/wcrsrt/100_4456.JPG  \n",
            "  inflating: train_data/train_data/wcrsrt/100_4457.JPG  \n",
            "  inflating: train_data/train_data/wcrsrt/100_4458.JPG  \n",
            "  inflating: train_data/train_data/wcrsrt/100_4459.JPG  \n",
            "  inflating: train_data/train_data/wcrsrt/100_4460.JPG  \n",
            "  inflating: train_data/train_data/wcrsrt/100_4461.JPG  \n"
          ]
        }
      ],
      "source": [
        "!unzip '/content/drive/MyDrive/birds_dataset.zip'"
      ]
    },
    {
      "cell_type": "code",
      "execution_count": null,
      "metadata": {
        "id": "NgFejrKR8lNt"
      },
      "outputs": [],
      "source": [
        "\n",
        "from tensorflow.keras.layers import Dense,Flatten,Input\n",
        "from tensorflow.keras.models import Model\n",
        "from tensorflow.keras.preprocessing import image\n",
        "from tensorflow.keras.preprocessing.image import ImageDataGenerator, load_img"
      ]
    },
    {
      "cell_type": "code",
      "execution_count": null,
      "metadata": {
        "id": "N1F-5ogu8_Lv"
      },
      "outputs": [],
      "source": [
        "train_gen = ImageDataGenerator(rescale=(1./255),horizontal_flip=True,shear_range=0.2)\n",
        "test_gen = ImageDataGenerator(rescale=(1./255))  #--> (0 to 255) convert to (0 to 1)"
      ]
    },
    {
      "cell_type": "code",
      "execution_count": null,
      "metadata": {
        "colab": {
          "base_uri": "https://localhost:8080/"
        },
        "id": "qUpNYQtE9H64",
        "outputId": "696cc755-163f-42ea-d5c9-07a1f91733b3"
      },
      "outputs": [
        {
          "output_type": "stream",
          "name": "stdout",
          "text": [
            "Found 150 images belonging to 16 classes.\n",
            "Found 157 images belonging to 16 classes.\n"
          ]
        }
      ],
      "source": [
        "train = train_gen.flow_from_directory('/content/train_data/train_data',\n",
        "                                      target_size=(224, 224),\n",
        "                                      class_mode='categorical',\n",
        "                                      batch_size=8)\n",
        "\n",
        "test = train_gen.flow_from_directory('/content/test_data/test_data',\n",
        "                                      target_size=(224, 224),\n",
        "                                      class_mode='categorical',\n",
        "                                      batch_size=8)\n",
        "\n",
        "\n"
      ]
    },
    {
      "cell_type": "code",
      "execution_count": null,
      "metadata": {
        "colab": {
          "base_uri": "https://localhost:8080/"
        },
        "id": "m8Si3_s3BKGD",
        "outputId": "821d7a39-7c8b-4247-92c5-2ae82cbb577e"
      },
      "outputs": [
        {
          "output_type": "execute_result",
          "data": {
            "text/plain": [
              "{'blasti': 0,\n",
              " 'bonegl': 1,\n",
              " 'brhkyt': 2,\n",
              " 'cbrtsh': 3,\n",
              " 'cmnmyn': 4,\n",
              " 'gretit': 5,\n",
              " 'hilpig': 6,\n",
              " 'himbul': 7,\n",
              " 'himgri': 8,\n",
              " 'hsparo': 9,\n",
              " 'indvul': 10,\n",
              " 'jglowl': 11,\n",
              " 'lbicrw': 12,\n",
              " 'mgprob': 13,\n",
              " 'rebimg': 14,\n",
              " 'wcrsrt': 15}"
            ]
          },
          "metadata": {},
          "execution_count": 5
        }
      ],
      "source": [
        "train.class_indices"
      ]
    },
    {
      "cell_type": "code",
      "execution_count": null,
      "metadata": {
        "colab": {
          "base_uri": "https://localhost:8080/"
        },
        "id": "93KJTYxBBT1-",
        "outputId": "fff98801-7a5a-469b-dd16-e595706bd04e"
      },
      "outputs": [
        {
          "output_type": "execute_result",
          "data": {
            "text/plain": [
              "{'blasti': 0,\n",
              " 'bonegl': 1,\n",
              " 'brhkyt': 2,\n",
              " 'cbrtsh': 3,\n",
              " 'cmnmyn': 4,\n",
              " 'gretit': 5,\n",
              " 'hilpig': 6,\n",
              " 'himbul': 7,\n",
              " 'himgri': 8,\n",
              " 'hsparo': 9,\n",
              " 'indvul': 10,\n",
              " 'jglowl': 11,\n",
              " 'lbicrw': 12,\n",
              " 'mgprob': 13,\n",
              " 'rebimg': 14,\n",
              " 'wcrsrt': 15}"
            ]
          },
          "metadata": {},
          "execution_count": 6
        }
      ],
      "source": [
        "test.class_indices"
      ]
    },
    {
      "cell_type": "code",
      "execution_count": null,
      "metadata": {
        "id": "D8g4uX2pBhH8"
      },
      "outputs": [],
      "source": [
        "from tensorflow.keras.layers import Convolution2D,MaxPooling2D,Flatten,Dense\n",
        "from tensorflow.keras.models import Sequential\n",
        "from keras.layers import Dense, Dropout, Conv2D, MaxPool2D, Flatten"
      ]
    },
    {
      "cell_type": "code",
      "source": [
        "from tensorflow.keras.applications.vgg16 import VGG16, preprocess_input"
      ],
      "metadata": {
        "id": "P2NVwFkUT12X"
      },
      "execution_count": null,
      "outputs": []
    },
    {
      "cell_type": "code",
      "source": [
        "vgg = VGG16(include_top=False,weights='imagenet',input_shape=(224,224,3))\n",
        ""
      ],
      "metadata": {
        "colab": {
          "base_uri": "https://localhost:8080/"
        },
        "id": "FUn5r4HQUbop",
        "outputId": "cd552191-e3e9-47d6-9c09-fc8b12335a93"
      },
      "execution_count": null,
      "outputs": [
        {
          "output_type": "stream",
          "name": "stdout",
          "text": [
            "Downloading data from https://storage.googleapis.com/tensorflow/keras-applications/vgg16/vgg16_weights_tf_dim_ordering_tf_kernels_notop.h5\n",
            "58889256/58889256 [==============================] - 3s 0us/step\n"
          ]
        }
      ]
    },
    {
      "cell_type": "code",
      "source": [
        "for layer in vgg.layers:\n",
        "  print(layer)"
      ],
      "metadata": {
        "colab": {
          "base_uri": "https://localhost:8080/"
        },
        "id": "VL6Vei2yUeqD",
        "outputId": "dee232a5-b91c-4ceb-f230-d023be935795"
      },
      "execution_count": null,
      "outputs": [
        {
          "output_type": "stream",
          "name": "stdout",
          "text": [
            "<keras.engine.input_layer.InputLayer object at 0x7fe5600671c0>\n",
            "<keras.layers.convolutional.conv2d.Conv2D object at 0x7fe560103130>\n",
            "<keras.layers.convolutional.conv2d.Conv2D object at 0x7fe560103cd0>\n",
            "<keras.layers.pooling.max_pooling2d.MaxPooling2D object at 0x7fe55f6b0d30>\n",
            "<keras.layers.convolutional.conv2d.Conv2D object at 0x7fe560103fd0>\n",
            "<keras.layers.convolutional.conv2d.Conv2D object at 0x7fe55f6b1e70>\n",
            "<keras.layers.pooling.max_pooling2d.MaxPooling2D object at 0x7fe55f6b2b30>\n",
            "<keras.layers.convolutional.conv2d.Conv2D object at 0x7fe55f6b3670>\n",
            "<keras.layers.convolutional.conv2d.Conv2D object at 0x7fe55f6b38e0>\n",
            "<keras.layers.convolutional.conv2d.Conv2D object at 0x7fe55f6b1120>\n",
            "<keras.layers.pooling.max_pooling2d.MaxPooling2D object at 0x7fe55f7094b0>\n",
            "<keras.layers.convolutional.conv2d.Conv2D object at 0x7fe55f70a020>\n",
            "<keras.layers.convolutional.conv2d.Conv2D object at 0x7fe55f7095a0>\n",
            "<keras.layers.convolutional.conv2d.Conv2D object at 0x7fe55f70b160>\n",
            "<keras.layers.pooling.max_pooling2d.MaxPooling2D object at 0x7fe55f70bac0>\n",
            "<keras.layers.convolutional.conv2d.Conv2D object at 0x7fe55f70b340>\n",
            "<keras.layers.convolutional.conv2d.Conv2D object at 0x7fe55f51ceb0>\n",
            "<keras.layers.convolutional.conv2d.Conv2D object at 0x7fe55f708d30>\n",
            "<keras.layers.pooling.max_pooling2d.MaxPooling2D object at 0x7fe55f51ee30>\n"
          ]
        }
      ]
    },
    {
      "cell_type": "code",
      "source": [
        "# Train model with existing weights\n",
        "\n",
        "for layer in vgg.layers:\n",
        "  layer.trainable=False"
      ],
      "metadata": {
        "id": "GH-ErzmqUh8M"
      },
      "execution_count": null,
      "outputs": []
    },
    {
      "cell_type": "code",
      "source": [
        "x = Flatten()(vgg.output)"
      ],
      "metadata": {
        "id": "p-7RvQ0vUl0w"
      },
      "execution_count": null,
      "outputs": []
    },
    {
      "cell_type": "code",
      "source": [
        "# output layer\n",
        "\n",
        "prediction = Dense(16,activation='softmax')(x)\n"
      ],
      "metadata": {
        "id": "zmCOqbQ2Uojz"
      },
      "execution_count": null,
      "outputs": []
    },
    {
      "cell_type": "code",
      "source": [
        "# Create Vgg16 model\n",
        "\n",
        "model = Model(inputs=vgg.input,outputs=prediction)"
      ],
      "metadata": {
        "id": "LW0Vlp9OUu0n"
      },
      "execution_count": null,
      "outputs": []
    },
    {
      "cell_type": "code",
      "source": [
        "model.compile(optimizer='adam',loss='categorical_crossentropy',metrics=['accuracy'])"
      ],
      "metadata": {
        "id": "1lDmoX0JUvVl"
      },
      "execution_count": null,
      "outputs": []
    },
    {
      "cell_type": "code",
      "source": [
        "model.summary()"
      ],
      "metadata": {
        "colab": {
          "base_uri": "https://localhost:8080/"
        },
        "id": "84CUPx-OVNng",
        "outputId": "d67ddc78-1aa0-410c-f33b-9798e9585573"
      },
      "execution_count": null,
      "outputs": [
        {
          "output_type": "stream",
          "name": "stdout",
          "text": [
            "Model: \"model\"\n",
            "_________________________________________________________________\n",
            " Layer (type)                Output Shape              Param #   \n",
            "=================================================================\n",
            " input_1 (InputLayer)        [(None, 224, 224, 3)]     0         \n",
            "                                                                 \n",
            " block1_conv1 (Conv2D)       (None, 224, 224, 64)      1792      \n",
            "                                                                 \n",
            " block1_conv2 (Conv2D)       (None, 224, 224, 64)      36928     \n",
            "                                                                 \n",
            " block1_pool (MaxPooling2D)  (None, 112, 112, 64)      0         \n",
            "                                                                 \n",
            " block2_conv1 (Conv2D)       (None, 112, 112, 128)     73856     \n",
            "                                                                 \n",
            " block2_conv2 (Conv2D)       (None, 112, 112, 128)     147584    \n",
            "                                                                 \n",
            " block2_pool (MaxPooling2D)  (None, 56, 56, 128)       0         \n",
            "                                                                 \n",
            " block3_conv1 (Conv2D)       (None, 56, 56, 256)       295168    \n",
            "                                                                 \n",
            " block3_conv2 (Conv2D)       (None, 56, 56, 256)       590080    \n",
            "                                                                 \n",
            " block3_conv3 (Conv2D)       (None, 56, 56, 256)       590080    \n",
            "                                                                 \n",
            " block3_pool (MaxPooling2D)  (None, 28, 28, 256)       0         \n",
            "                                                                 \n",
            " block4_conv1 (Conv2D)       (None, 28, 28, 512)       1180160   \n",
            "                                                                 \n",
            " block4_conv2 (Conv2D)       (None, 28, 28, 512)       2359808   \n",
            "                                                                 \n",
            " block4_conv3 (Conv2D)       (None, 28, 28, 512)       2359808   \n",
            "                                                                 \n",
            " block4_pool (MaxPooling2D)  (None, 14, 14, 512)       0         \n",
            "                                                                 \n",
            " block5_conv1 (Conv2D)       (None, 14, 14, 512)       2359808   \n",
            "                                                                 \n",
            " block5_conv2 (Conv2D)       (None, 14, 14, 512)       2359808   \n",
            "                                                                 \n",
            " block5_conv3 (Conv2D)       (None, 14, 14, 512)       2359808   \n",
            "                                                                 \n",
            " block5_pool (MaxPooling2D)  (None, 7, 7, 512)         0         \n",
            "                                                                 \n",
            " flatten (Flatten)           (None, 25088)             0         \n",
            "                                                                 \n",
            " dense (Dense)               (None, 16)                401424    \n",
            "                                                                 \n",
            "=================================================================\n",
            "Total params: 15,116,112\n",
            "Trainable params: 401,424\n",
            "Non-trainable params: 14,714,688\n",
            "_________________________________________________________________\n"
          ]
        }
      ]
    },
    {
      "cell_type": "code",
      "source": [
        "\n",
        "model.fit_generator(train,validation_data=test,epochs=10,steps_per_epoch=len(train),\n",
        "                    validation_steps=len(test))"
      ],
      "metadata": {
        "colab": {
          "base_uri": "https://localhost:8080/"
        },
        "id": "Lo1_jT2KVPGT",
        "outputId": "7a614748-d03f-4263-814c-da6d356f9d9d"
      },
      "execution_count": null,
      "outputs": [
        {
          "output_type": "stream",
          "name": "stderr",
          "text": [
            "<ipython-input-45-240d737b1fe6>:1: UserWarning: `Model.fit_generator` is deprecated and will be removed in a future version. Please use `Model.fit`, which supports generators.\n",
            "  model.fit_generator(train,validation_data=test,epochs=10,steps_per_epoch=len(train),\n"
          ]
        },
        {
          "output_type": "stream",
          "name": "stdout",
          "text": [
            "Epoch 1/10\n",
            "19/19 [==============================] - 339s 18s/step - loss: 0.0370 - accuracy: 0.9933 - val_loss: 3.0736 - val_accuracy: 0.4076\n",
            "Epoch 2/10\n",
            "19/19 [==============================] - 340s 18s/step - loss: 0.0327 - accuracy: 0.9933 - val_loss: 3.1078 - val_accuracy: 0.4076\n",
            "Epoch 3/10\n",
            "19/19 [==============================] - 337s 18s/step - loss: 0.0548 - accuracy: 0.9867 - val_loss: 3.8029 - val_accuracy: 0.3567\n",
            "Epoch 4/10\n",
            "19/19 [==============================] - 334s 18s/step - loss: 0.0699 - accuracy: 0.9733 - val_loss: 3.0680 - val_accuracy: 0.4204\n",
            "Epoch 5/10\n",
            "19/19 [==============================] - 334s 18s/step - loss: 0.0333 - accuracy: 0.9933 - val_loss: 3.0576 - val_accuracy: 0.4013\n",
            "Epoch 6/10\n",
            "19/19 [==============================] - 332s 18s/step - loss: 0.0326 - accuracy: 0.9933 - val_loss: 3.2027 - val_accuracy: 0.3885\n",
            "Epoch 7/10\n",
            "19/19 [==============================] - 336s 18s/step - loss: 0.0328 - accuracy: 0.9867 - val_loss: 3.0059 - val_accuracy: 0.4459\n",
            "Epoch 8/10\n",
            "19/19 [==============================] - 285s 15s/step - loss: 0.0147 - accuracy: 0.9933 - val_loss: 3.0251 - val_accuracy: 0.4268\n",
            "Epoch 9/10\n",
            "19/19 [==============================] - 331s 18s/step - loss: 0.0097 - accuracy: 1.0000 - val_loss: 3.0205 - val_accuracy: 0.4140\n",
            "Epoch 10/10\n",
            "19/19 [==============================] - 334s 18s/step - loss: 0.0068 - accuracy: 1.0000 - val_loss: 2.9956 - val_accuracy: 0.4204\n"
          ]
        },
        {
          "output_type": "execute_result",
          "data": {
            "text/plain": [
              "<keras.callbacks.History at 0x7fe54ac77580>"
            ]
          },
          "metadata": {},
          "execution_count": 45
        }
      ]
    },
    {
      "cell_type": "code",
      "source": [
        "img1 = image.load_img('/content/test_data/test_data/blasti/DSC_6396.jpg',target_size=(224,224))\n",
        "img1 = image.img_to_array(img1)\n",
        "img1 = np.expand_dims(img1,axis=0)\n",
        "pred = np.argmax(model.predict(img1))\n",
        "print(pred)\n",
        "output = [ 'blasti','bonegl','brhkyt','cbrtsh','cmnnyn','gretit','hilpig','himbul','himgri','hsparo','indvul','jglowl','lbicrw','mgprob','rebimg','wcrsrt' ]\n",
        "print(output[pred])"
      ],
      "metadata": {
        "colab": {
          "base_uri": "https://localhost:8080/"
        },
        "id": "4rIPQ_-kVZkf",
        "outputId": "eed0c864-31c8-441e-f576-ba65b007dca1"
      },
      "execution_count": null,
      "outputs": [
        {
          "output_type": "stream",
          "name": "stdout",
          "text": [
            "1/1 [==============================] - 1s 574ms/step\n",
            "0\n",
            "blasti\n"
          ]
        }
      ]
    },
    {
      "cell_type": "code",
      "source": [],
      "metadata": {
        "id": "xgFz7be9aoNh"
      },
      "execution_count": null,
      "outputs": []
    },
    {
      "cell_type": "code",
      "source": [
        "print(ypreds)"
      ],
      "metadata": {
        "colab": {
          "base_uri": "https://localhost:8080/"
        },
        "id": "LAEgy3NDaxNR",
        "outputId": "833d17e3-512c-45ee-92c1-7e9d74632ab2"
      },
      "execution_count": null,
      "outputs": [
        {
          "output_type": "stream",
          "name": "stdout",
          "text": [
            "[[2.54806830e-04 1.48823792e-05 3.49592417e-02 ... 1.73827037e-04\n",
            "  1.38276097e-04 8.53653401e-05]\n",
            " [1.09613886e-07 9.19574390e-08 3.73283052e-04 ... 2.67964118e-04\n",
            "  3.06515791e-03 2.10221801e-02]\n",
            " [9.85189199e-01 3.49306356e-05 8.97243081e-05 ... 1.36991701e-04\n",
            "  1.07967408e-05 3.11568438e-05]\n",
            " ...\n",
            " [7.47889999e-06 1.45500917e-06 3.35939603e-06 ... 1.42817240e-04\n",
            "  2.27420032e-03 2.09212140e-03]\n",
            " [5.56864310e-03 2.99808016e-04 4.95815366e-05 ... 5.31206839e-02\n",
            "  1.81426518e-02 4.45575804e-01]\n",
            " [1.87302157e-02 2.62135193e-02 6.54479009e-05 ... 2.44847126e-02\n",
            "  7.43060082e-04 1.33543350e-02]]\n"
          ]
        }
      ]
    },
    {
      "cell_type": "code",
      "source": [
        "test"
      ],
      "metadata": {
        "colab": {
          "base_uri": "https://localhost:8080/"
        },
        "id": "NygkjTyPa-HI",
        "outputId": "7082cca2-4da2-4979-cda4-43102bf1ab29"
      },
      "execution_count": null,
      "outputs": [
        {
          "output_type": "execute_result",
          "data": {
            "text/plain": [
              "<keras.preprocessing.image.DirectoryIterator at 0x7fe560067340>"
            ]
          },
          "metadata": {},
          "execution_count": 29
        }
      ]
    },
    {
      "cell_type": "code",
      "source": [],
      "metadata": {
        "id": "QjxYKuDIR5Zq"
      },
      "execution_count": null,
      "outputs": []
    },
    {
      "cell_type": "code",
      "source": [],
      "metadata": {
        "id": "W0swx4gHmCKm"
      },
      "execution_count": null,
      "outputs": []
    }
  ],
  "metadata": {
    "colab": {
      "provenance": []
    },
    "kernelspec": {
      "display_name": "Python 3",
      "name": "python3"
    },
    "language_info": {
      "name": "python"
    }
  },
  "nbformat": 4,
  "nbformat_minor": 0
}